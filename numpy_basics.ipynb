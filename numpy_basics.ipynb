{
  "cells": [
    {
      "cell_type": "markdown",
      "metadata": {
        "colab_type": "text",
        "id": "view-in-github"
      },
      "source": [
        "<a href=\"https://colab.research.google.com/github/luiz-bcardoso/UFN-DataScience/blob/main/aulas_robertson.ipynb\" target=\"_parent\"><img src=\"https://colab.research.google.com/assets/colab-badge.svg\" alt=\"Open In Colab\"/></a>"
      ]
    },
    {
      "cell_type": "code",
      "execution_count": 2,
      "metadata": {
        "id": "eVYrP5rq7fy2"
      },
      "outputs": [],
      "source": [
        "import numpy as np"
      ]
    },
    {
      "cell_type": "code",
      "execution_count": 3,
      "metadata": {},
      "outputs": [
        {
          "name": "stdout",
          "output_type": "stream",
          "text": [
            "Vetor: [1 2 3 4 5 6 7 8 9]\n",
            "Tipo: <class 'numpy.ndarray'>\n",
            "Tipo dos elementos: int64\n",
            "Dimensões: 1\n",
            "Formato: (9,)\n",
            "Quantidade de elementos: 9\n",
            "Quantidade de bytes: 72\n",
            "Bytes por elemento: 8\n"
          ]
        }
      ],
      "source": [
        "vetor = np.array([1, 2, 3, 4, 5, 6, 7, 8, 9])\n",
        "print(f\"Vetor: {vetor}\")\n",
        "print(f\"Tipo: {type(vetor)}\")\n",
        "print(f\"Tipo dos elementos: {vetor.dtype}\")\n",
        "print(f\"Dimensões: {vetor.ndim}\")\n",
        "print(f\"Formato: {vetor.shape}\")\n",
        "print(f\"Quantidade de elementos: {vetor.size}\")\n",
        "print(f\"Quantidade de bytes: {vetor.nbytes}\")\n",
        "print(f\"Bytes por elemento: {vetor.itemsize}\")"
      ]
    },
    {
      "cell_type": "code",
      "execution_count": 4,
      "metadata": {},
      "outputs": [
        {
          "name": "stdout",
          "output_type": "stream",
          "text": [
            "Vetor: [[1 2 3]\n",
            " [4 2 6]\n",
            " [7 8 9]]\n",
            "Tipo: <class 'numpy.ndarray'>\n",
            "Tipo dos elementos: int64\n",
            "Dimensões: 2\n",
            "Formato: (3, 3)\n"
          ]
        }
      ],
      "source": [
        "matriz = np.array([[1, 2, 3], [4, 2, 6], [7, 8, 9]])\n",
        "print(f\"Vetor: {matriz}\")\n",
        "print(f\"Tipo: {type(matriz)}\")\n",
        "print(f\"Tipo dos elementos: {matriz.dtype}\")\n",
        "print(f\"Dimensões: {matriz.ndim}\")\n",
        "print(f\"Formato: {matriz.shape}\")"
      ]
    },
    {
      "cell_type": "code",
      "execution_count": 5,
      "metadata": {},
      "outputs": [
        {
          "name": "stdout",
          "output_type": "stream",
          "text": [
            "Vetor: [1 2 3 4 5 6 7 8 9]\n",
            "Valor mínimo: 1\n",
            "Valor máximo: 9\n",
            "Soma: 45\n",
            "Média: 5.0\n",
            "Mediana: 5.0\n",
            "Desvio padrão: 2.581988897471611\n"
          ]
        }
      ],
      "source": [
        "#Obter o valor minimo, maximo, soma, média, mediana e desvio padrão\n",
        "print(f\"Vetor: {vetor}\")\n",
        "print(f\"Valor mínimo: {vetor.min()}\")\n",
        "print(f\"Valor máximo: {vetor.max()}\")\n",
        "print(f\"Soma: {vetor.sum()}\")\n",
        "print(f\"Média: {vetor.mean()}\")\n",
        "print(f\"Mediana: {np.median(vetor)}\")\n",
        "print(f\"Desvio padrão: {vetor.std()}\")\n",
        "\n"
      ]
    },
    {
      "cell_type": "code",
      "execution_count": 6,
      "metadata": {},
      "outputs": [
        {
          "name": "stdout",
          "output_type": "stream",
          "text": [
            "[3810.77 7009.16 8006.49 ... 4796.24  355.13 2171.71]\n",
            "100000000\n"
          ]
        }
      ],
      "source": [
        "#Vetor de preços aleatorios\n",
        "precos = np.random.rand(100000000) * 10000\n",
        "precos = np.round(precos, 2)\n",
        "print(precos)\n",
        "print(precos.size)"
      ]
    },
    {
      "cell_type": "code",
      "execution_count": 7,
      "metadata": {},
      "outputs": [
        {
          "name": "stdout",
          "output_type": "stream",
          "text": [
            "CPU times: total: 0 ns\n",
            "Wall time: 5.48 μs\n"
          ]
        }
      ],
      "source": [
        "# Fazendo aumento de 20% usando python puro\n",
        "nova_tabela_precos = []\n",
        "%time\n",
        "for preco in precos:\n",
        "    novo_preco = preco * 1.20\n",
        "    nova_tabela_precos.append(novo_preco)"
      ]
    },
    {
      "cell_type": "code",
      "execution_count": 8,
      "metadata": {},
      "outputs": [
        {
          "name": "stdout",
          "output_type": "stream",
          "text": [
            "CPU times: total: 0 ns\n",
            "Wall time: 5.25 μs\n"
          ]
        }
      ],
      "source": [
        "# Fazendo aumento de 20% usando numpy\n",
        "nova_tabela_precos = []\n",
        "%time\n",
        "nova_tabela_precos = precos *1.20\n",
        "# numpy is poggers"
      ]
    },
    {
      "cell_type": "code",
      "execution_count": 9,
      "metadata": {},
      "outputs": [
        {
          "name": "stdout",
          "output_type": "stream",
          "text": [
            "[[ 50  60  55  58  80 120 100]\n",
            " [ 40  45  50  48  70 110  90]\n",
            " [ 35  38  40  42  60 105  85]]\n"
          ]
        }
      ],
      "source": [
        "vendas = np.array([\n",
        "    #seg, ter, qua, qui, sex, sab, dom\n",
        "    [50, 60, 55, 58, 80, 120, 100], # loja 1\n",
        "    [40, 45, 50, 48, 70, 110, 90],  # loja 2\n",
        "    [35, 38, 40, 42, 60, 105, 85],  # loja 3\n",
        "])\n",
        "\n",
        "print(vendas)"
      ]
    },
    {
      "cell_type": "code",
      "execution_count": 10,
      "metadata": {},
      "outputs": [
        {
          "name": "stdout",
          "output_type": "stream",
          "text": [
            "48\n",
            "35\n"
          ]
        }
      ],
      "source": [
        "#Vendas da loja 2 na quinta feira\n",
        "print(vendas[1][3])\n",
        "\n",
        "#Vendas da loja 3 na segunda feira\n",
        "print(vendas[2][0])\n",
        "\n",
        "#trocar valor da loja 3 no domingo\n",
        "vendas[2][6] = 88\n"
      ]
    },
    {
      "cell_type": "code",
      "execution_count": 11,
      "metadata": {},
      "outputs": [
        {
          "name": "stdout",
          "output_type": "stream",
          "text": [
            "[523 453 408]\n",
            "[125 143 145 148 210 335 278]\n"
          ]
        }
      ],
      "source": [
        "#total de vendas por loja\n",
        "print(vendas.sum(axis=1)) # 1 : coluna\n",
        "\n",
        "#total de vendas por dia para cada loja\n",
        "print(vendas.sum(axis=0)) # 0 : linha"
      ]
    },
    {
      "cell_type": "code",
      "execution_count": 15,
      "metadata": {},
      "outputs": [
        {
          "name": "stdout",
          "output_type": "stream",
          "text": [
            "[74.71 64.71 58.29]\n",
            "[ 41.67  47.67  48.33  49.33  70.   111.67  92.67]\n"
          ]
        }
      ],
      "source": [
        "#média de vendas por loja\n",
        "print(np.round(vendas.mean(axis=1),2)) # 1 : coluna\n",
        "\n",
        "#média de vendas por dia para cada loja\n",
        "print(np.round(vendas.mean(axis=0),2)) # 0 : linha"
      ]
    },
    {
      "cell_type": "code",
      "execution_count": 21,
      "metadata": {},
      "outputs": [
        {
          "name": "stdout",
          "output_type": "stream",
          "text": [
            "58.0\n"
          ]
        }
      ],
      "source": [
        "#medianda de vendas das lojas\n",
        "print(np.median(vendas))"
      ]
    }
  ],
  "metadata": {
    "colab": {
      "authorship_tag": "ABX9TyOjo9vTpFjr/2cmOgOHzrOu",
      "include_colab_link": true,
      "provenance": []
    },
    "kernelspec": {
      "display_name": "venv",
      "language": "python",
      "name": "python3"
    },
    "language_info": {
      "codemirror_mode": {
        "name": "ipython",
        "version": 3
      },
      "file_extension": ".py",
      "mimetype": "text/x-python",
      "name": "python",
      "nbconvert_exporter": "python",
      "pygments_lexer": "ipython3",
      "version": "3.13.1"
    }
  },
  "nbformat": 4,
  "nbformat_minor": 0
}
