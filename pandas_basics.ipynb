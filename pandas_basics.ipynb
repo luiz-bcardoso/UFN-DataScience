{
  "cells": [
    {
      "cell_type": "markdown",
      "metadata": {
        "colab_type": "text",
        "id": "view-in-github"
      },
      "source": [
        "<a href=\"https://colab.research.google.com/github/luiz-bcardoso/UFN-DataScience/blob/main/pandas_basics.ipynb\" target=\"_parent\"><img src=\"https://colab.research.google.com/assets/colab-badge.svg\" alt=\"Open In Colab\"/></a>"
      ]
    },
    {
      "cell_type": "code",
      "execution_count": 239,
      "metadata": {
        "id": "M2hV0v4c5BLb"
      },
      "outputs": [],
      "source": [
        "import pandas as pd\n",
        "import numpy as np"
      ]
    },
    {
      "cell_type": "markdown",
      "metadata": {},
      "source": [
        "---"
      ]
    },
    {
      "cell_type": "markdown",
      "metadata": {},
      "source": [
        "### Usando Series"
      ]
    },
    {
      "cell_type": "code",
      "execution_count": 240,
      "metadata": {},
      "outputs": [
        {
          "name": "stdout",
          "output_type": "stream",
          "text": [
            "Jan    100\n",
            "Fev    200\n",
            "Mar    300\n",
            "Abr    250\n",
            "dtype: int64\n"
          ]
        }
      ],
      "source": [
        "vendas = pd.Series([100,200,300,250], index=['Jan', 'Fev', 'Mar', 'Abr'])\n",
        "print(vendas)"
      ]
    },
    {
      "cell_type": "code",
      "execution_count": 241,
      "metadata": {},
      "outputs": [
        {
          "name": "stdout",
          "output_type": "stream",
          "text": [
            "<class 'pandas.core.series.Series'>\n",
            "Index: 4 entries, Jan to Abr\n",
            "Series name: None\n",
            "Non-Null Count  Dtype\n",
            "--------------  -----\n",
            "4 non-null      int64\n",
            "dtypes: int64(1)\n",
            "memory usage: 64.0+ bytes\n",
            "None\n",
            "count      4.000000\n",
            "mean     212.500000\n",
            "std       85.391256\n",
            "min      100.000000\n",
            "25%      175.000000\n",
            "50%      225.000000\n",
            "75%      262.500000\n",
            "max      300.000000\n",
            "dtype: float64\n"
          ]
        }
      ],
      "source": [
        "# Exibindo a estrutura e descrição\n",
        "print(vendas.info())\n",
        "print(vendas.describe())"
      ]
    },
    {
      "cell_type": "code",
      "execution_count": 242,
      "metadata": {},
      "outputs": [
        {
          "name": "stdout",
          "output_type": "stream",
          "text": [
            "Jan    100\n",
            "Fev    200\n",
            "dtype: int64\n",
            "Mar    300\n",
            "Abr    250\n",
            "dtype: int64\n"
          ]
        }
      ],
      "source": [
        "# Pegando dados do cabeçalho e rodapé\n",
        "print(vendas.head(2))\n",
        "print(vendas.tail(2))"
      ]
    },
    {
      "cell_type": "code",
      "execution_count": 243,
      "metadata": {},
      "outputs": [
        {
          "name": "stdout",
          "output_type": "stream",
          "text": [
            "Quantidade: 4 meses\n",
            "Total: R$ 850\n",
            "Média: R$ 212.5\n",
            "Mediana: R$ 225.0\n",
            "Máximo: R$ 300\n",
            "Mínimo: R$ 100\n",
            "Desvio Padrão: R$ 85.39\n"
          ]
        }
      ],
      "source": [
        "# Quantidade, total, média, mediana, máximo, mínimo e desvio padrão\n",
        "print(f\"Quantidade: {vendas.count()} meses\")\n",
        "print(f\"Total: R$ {vendas.sum()}\")\n",
        "print(f\"Média: R$ {vendas.mean()}\")\n",
        "print(f\"Mediana: R$ {vendas.median()}\")\n",
        "print(f\"Máximo: R$ {vendas.max()}\")\n",
        "print(f\"Mínimo: R$ {vendas.min()}\")\n",
        "print(f\"Desvio Padrão: R$ {vendas.std():.2f}\")"
      ]
    },
    {
      "cell_type": "code",
      "execution_count": 244,
      "metadata": {},
      "outputs": [
        {
          "name": "stdout",
          "output_type": "stream",
          "text": [
            "100\n",
            "Jan    100\n",
            "Fev    200\n",
            "Mar    300\n",
            "dtype: int64\n",
            "100\n",
            "Jan    100\n",
            "Fev    200\n",
            "Mar    300\n",
            "dtype: int64\n",
            "100\n",
            "Jan    100\n",
            "Fev    200\n",
            "Mar    300\n",
            "dtype: int64\n",
            "100\n",
            "Jan    100\n",
            "Fev    200\n",
            "Mar    300\n",
            "dtype: int64\n"
          ]
        },
        {
          "name": "stderr",
          "output_type": "stream",
          "text": [
            "C:\\Users\\laboratorio\\AppData\\Local\\Temp\\ipykernel_12668\\743239149.py:6: FutureWarning: Series.__getitem__ treating keys as positions is deprecated. In a future version, integer keys will always be treated as labels (consistent with DataFrame behavior). To access a value by position, use `ser.iloc[pos]`\n",
            "  print(vendas[0])\n"
          ]
        }
      ],
      "source": [
        "#Acessando os dados diretamente\n",
        "print(vendas['Jan'])\n",
        "print(vendas['Jan':'Mar'])\n",
        "\n",
        "# Acessando os dados por posição\n",
        "print(vendas[0])\n",
        "print(vendas[0:3])\n",
        "\n",
        "# Acessando usando loc e iloc\n",
        "print(vendas.loc['Jan'])\n",
        "print(vendas.loc['Jan':'Mar'])\n",
        "print(vendas.iloc[0])\n",
        "print(vendas.iloc[0:3])"
      ]
    },
    {
      "cell_type": "code",
      "execution_count": 245,
      "metadata": {},
      "outputs": [],
      "source": [
        "valor_min = 200\n",
        "valor_max = 280"
      ]
    },
    {
      "cell_type": "code",
      "execution_count": 246,
      "metadata": {},
      "outputs": [
        {
          "name": "stdout",
          "output_type": "stream",
          "text": [
            "Jan    False\n",
            "Fev     True\n",
            "Mar    False\n",
            "Abr     True\n",
            "dtype: bool \n",
            "\n",
            "Fev    200\n",
            "Abr    250\n",
            "dtype: int64\n"
          ]
        }
      ],
      "source": [
        "#Filtragem de dados\n",
        "filtro = (vendas >= valor_min) & (vendas <= valor_max)\n",
        "print(filtro,'\\n')\n",
        "print(vendas[filtro])"
      ]
    },
    {
      "cell_type": "code",
      "execution_count": 247,
      "metadata": {},
      "outputs": [
        {
          "name": "stdout",
          "output_type": "stream",
          "text": [
            "Os meses de venderam entre 200 a 280 foram ['Fev', 'Abr']\n",
            "Com vendas de R$ [200, 250]\n"
          ]
        }
      ],
      "source": [
        "# Filtragem de dados\n",
        "print(f\"Os meses de venderam entre {valor_min} a {valor_max} foram {vendas[filtro].index.tolist()}\")\n",
        "print(f\"Com vendas de R$ {vendas[filtro].values.tolist()}\")"
      ]
    },
    {
      "cell_type": "markdown",
      "metadata": {},
      "source": [
        "---"
      ]
    },
    {
      "cell_type": "markdown",
      "metadata": {},
      "source": [
        "### Usando DataFrame"
      ]
    },
    {
      "cell_type": "code",
      "execution_count": 248,
      "metadata": {},
      "outputs": [
        {
          "data": {
            "text/html": [
              "<div>\n",
              "<style scoped>\n",
              "    .dataframe tbody tr th:only-of-type {\n",
              "        vertical-align: middle;\n",
              "    }\n",
              "\n",
              "    .dataframe tbody tr th {\n",
              "        vertical-align: top;\n",
              "    }\n",
              "\n",
              "    .dataframe thead th {\n",
              "        text-align: right;\n",
              "    }\n",
              "</style>\n",
              "<table border=\"1\" class=\"dataframe\">\n",
              "  <thead>\n",
              "    <tr style=\"text-align: right;\">\n",
              "      <th></th>\n",
              "      <th>produto</th>\n",
              "      <th>preco</th>\n",
              "      <th>estoque</th>\n",
              "    </tr>\n",
              "  </thead>\n",
              "  <tbody>\n",
              "    <tr>\n",
              "      <th>0</th>\n",
              "      <td>sorvete</td>\n",
              "      <td>8.0</td>\n",
              "      <td>120</td>\n",
              "    </tr>\n",
              "    <tr>\n",
              "      <th>1</th>\n",
              "      <td>refrigerante</td>\n",
              "      <td>5.5</td>\n",
              "      <td>85</td>\n",
              "    </tr>\n",
              "    <tr>\n",
              "      <th>2</th>\n",
              "      <td>batata frita</td>\n",
              "      <td>7.0</td>\n",
              "      <td>60</td>\n",
              "    </tr>\n",
              "  </tbody>\n",
              "</table>\n",
              "</div>"
            ],
            "text/plain": [
              "        produto  preco  estoque\n",
              "0       sorvete    8.0      120\n",
              "1  refrigerante    5.5       85\n",
              "2  batata frita    7.0       60"
            ]
          },
          "execution_count": 248,
          "metadata": {},
          "output_type": "execute_result"
        }
      ],
      "source": [
        "dados = {\n",
        "    'produto' : ['sorvete', 'refrigerante', 'batata frita'],\n",
        "    'preco'   : [8.00, 5.50, 7.00],\n",
        "    'estoque' : [120, 85, 60]\n",
        "}\n",
        "\n",
        "df = pd.DataFrame(dados)\n",
        "df"
      ]
    },
    {
      "cell_type": "code",
      "execution_count": 249,
      "metadata": {},
      "outputs": [
        {
          "data": {
            "text/html": [
              "<div>\n",
              "<style scoped>\n",
              "    .dataframe tbody tr th:only-of-type {\n",
              "        vertical-align: middle;\n",
              "    }\n",
              "\n",
              "    .dataframe tbody tr th {\n",
              "        vertical-align: top;\n",
              "    }\n",
              "\n",
              "    .dataframe thead th {\n",
              "        text-align: right;\n",
              "    }\n",
              "</style>\n",
              "<table border=\"1\" class=\"dataframe\">\n",
              "  <thead>\n",
              "    <tr style=\"text-align: right;\">\n",
              "      <th></th>\n",
              "      <th>preco</th>\n",
              "      <th>estoque</th>\n",
              "    </tr>\n",
              "  </thead>\n",
              "  <tbody>\n",
              "    <tr>\n",
              "      <th>count</th>\n",
              "      <td>3.000000</td>\n",
              "      <td>3.000000</td>\n",
              "    </tr>\n",
              "    <tr>\n",
              "      <th>mean</th>\n",
              "      <td>6.833333</td>\n",
              "      <td>88.333333</td>\n",
              "    </tr>\n",
              "    <tr>\n",
              "      <th>std</th>\n",
              "      <td>1.258306</td>\n",
              "      <td>30.138569</td>\n",
              "    </tr>\n",
              "    <tr>\n",
              "      <th>min</th>\n",
              "      <td>5.500000</td>\n",
              "      <td>60.000000</td>\n",
              "    </tr>\n",
              "    <tr>\n",
              "      <th>25%</th>\n",
              "      <td>6.250000</td>\n",
              "      <td>72.500000</td>\n",
              "    </tr>\n",
              "    <tr>\n",
              "      <th>50%</th>\n",
              "      <td>7.000000</td>\n",
              "      <td>85.000000</td>\n",
              "    </tr>\n",
              "    <tr>\n",
              "      <th>75%</th>\n",
              "      <td>7.500000</td>\n",
              "      <td>102.500000</td>\n",
              "    </tr>\n",
              "    <tr>\n",
              "      <th>max</th>\n",
              "      <td>8.000000</td>\n",
              "      <td>120.000000</td>\n",
              "    </tr>\n",
              "  </tbody>\n",
              "</table>\n",
              "</div>"
            ],
            "text/plain": [
              "          preco     estoque\n",
              "count  3.000000    3.000000\n",
              "mean   6.833333   88.333333\n",
              "std    1.258306   30.138569\n",
              "min    5.500000   60.000000\n",
              "25%    6.250000   72.500000\n",
              "50%    7.000000   85.000000\n",
              "75%    7.500000  102.500000\n",
              "max    8.000000  120.000000"
            ]
          },
          "execution_count": 249,
          "metadata": {},
          "output_type": "execute_result"
        }
      ],
      "source": [
        "df.describe()"
      ]
    },
    {
      "cell_type": "code",
      "execution_count": 250,
      "metadata": {},
      "outputs": [
        {
          "name": "stdout",
          "output_type": "stream",
          "text": [
            "<class 'pandas.core.frame.DataFrame'>\n",
            "RangeIndex: 3 entries, 0 to 2\n",
            "Data columns (total 3 columns):\n",
            " #   Column   Non-Null Count  Dtype  \n",
            "---  ------   --------------  -----  \n",
            " 0   produto  3 non-null      object \n",
            " 1   preco    3 non-null      float64\n",
            " 2   estoque  3 non-null      int64  \n",
            "dtypes: float64(1), int64(1), object(1)\n",
            "memory usage: 204.0+ bytes\n"
          ]
        }
      ],
      "source": [
        "df.info()"
      ]
    },
    {
      "cell_type": "code",
      "execution_count": 251,
      "metadata": {},
      "outputs": [
        {
          "name": "stdout",
          "output_type": "stream",
          "text": [
            "produto     object\n",
            "preco      float64\n",
            "estoque      int64\n",
            "dtype: object\n",
            "produto     object\n",
            "preco      float64\n",
            "estoque     object\n",
            "dtype: object\n",
            "produto     object\n",
            "preco      float64\n",
            "estoque      int32\n",
            "dtype: object\n"
          ]
        }
      ],
      "source": [
        "print(df.dtypes)\n",
        "\n",
        "# Convertendo o tipo de dado de int para string\n",
        "df['estoque'] = df['estoque'].astype('str')\n",
        "\n",
        "print(df.dtypes)\n",
        "\n",
        "# Retornando para inteiro\n",
        "df['estoque'] = df['estoque'].astype('int32')\n",
        "\n",
        "print(df.dtypes)"
      ]
    },
    {
      "cell_type": "code",
      "execution_count": 252,
      "metadata": {},
      "outputs": [
        {
          "data": {
            "text/html": [
              "<div>\n",
              "<style scoped>\n",
              "    .dataframe tbody tr th:only-of-type {\n",
              "        vertical-align: middle;\n",
              "    }\n",
              "\n",
              "    .dataframe tbody tr th {\n",
              "        vertical-align: top;\n",
              "    }\n",
              "\n",
              "    .dataframe thead th {\n",
              "        text-align: right;\n",
              "    }\n",
              "</style>\n",
              "<table border=\"1\" class=\"dataframe\">\n",
              "  <thead>\n",
              "    <tr style=\"text-align: right;\">\n",
              "      <th></th>\n",
              "      <th>produto</th>\n",
              "      <th>preco</th>\n",
              "      <th>estoque</th>\n",
              "      <th>valor_total</th>\n",
              "    </tr>\n",
              "  </thead>\n",
              "  <tbody>\n",
              "    <tr>\n",
              "      <th>0</th>\n",
              "      <td>sorvete</td>\n",
              "      <td>8.0</td>\n",
              "      <td>120</td>\n",
              "      <td>960.0</td>\n",
              "    </tr>\n",
              "    <tr>\n",
              "      <th>1</th>\n",
              "      <td>refrigerante</td>\n",
              "      <td>5.5</td>\n",
              "      <td>85</td>\n",
              "      <td>467.5</td>\n",
              "    </tr>\n",
              "    <tr>\n",
              "      <th>2</th>\n",
              "      <td>batata frita</td>\n",
              "      <td>7.0</td>\n",
              "      <td>60</td>\n",
              "      <td>420.0</td>\n",
              "    </tr>\n",
              "  </tbody>\n",
              "</table>\n",
              "</div>"
            ],
            "text/plain": [
              "        produto  preco  estoque  valor_total\n",
              "0       sorvete    8.0      120        960.0\n",
              "1  refrigerante    5.5       85        467.5\n",
              "2  batata frita    7.0       60        420.0"
            ]
          },
          "execution_count": 252,
          "metadata": {},
          "output_type": "execute_result"
        }
      ],
      "source": [
        "# Calculando e armazenando o valor total do estoque\n",
        "df['valor_total'] = df['preco'] * df['estoque']\n",
        "df"
      ]
    },
    {
      "cell_type": "code",
      "execution_count": 253,
      "metadata": {},
      "outputs": [
        {
          "data": {
            "text/html": [
              "<div>\n",
              "<style scoped>\n",
              "    .dataframe tbody tr th:only-of-type {\n",
              "        vertical-align: middle;\n",
              "    }\n",
              "\n",
              "    .dataframe tbody tr th {\n",
              "        vertical-align: top;\n",
              "    }\n",
              "\n",
              "    .dataframe thead th {\n",
              "        text-align: right;\n",
              "    }\n",
              "</style>\n",
              "<table border=\"1\" class=\"dataframe\">\n",
              "  <thead>\n",
              "    <tr style=\"text-align: right;\">\n",
              "      <th></th>\n",
              "      <th>produto</th>\n",
              "      <th>preco</th>\n",
              "      <th>estoque</th>\n",
              "    </tr>\n",
              "  </thead>\n",
              "  <tbody>\n",
              "    <tr>\n",
              "      <th>0</th>\n",
              "      <td>sorvete</td>\n",
              "      <td>8.0</td>\n",
              "      <td>120</td>\n",
              "    </tr>\n",
              "    <tr>\n",
              "      <th>1</th>\n",
              "      <td>refrigerante</td>\n",
              "      <td>5.5</td>\n",
              "      <td>85</td>\n",
              "    </tr>\n",
              "    <tr>\n",
              "      <th>2</th>\n",
              "      <td>batata frita</td>\n",
              "      <td>7.0</td>\n",
              "      <td>60</td>\n",
              "    </tr>\n",
              "  </tbody>\n",
              "</table>\n",
              "</div>"
            ],
            "text/plain": [
              "        produto  preco  estoque\n",
              "0       sorvete    8.0      120\n",
              "1  refrigerante    5.5       85\n",
              "2  batata frita    7.0       60"
            ]
          },
          "execution_count": 253,
          "metadata": {},
          "output_type": "execute_result"
        }
      ],
      "source": [
        "# Removendo a coluna valor_total\n",
        "df = df.drop(columns=['valor_total'])\n",
        "df"
      ]
    },
    {
      "cell_type": "markdown",
      "metadata": {},
      "source": [
        "---"
      ]
    },
    {
      "cell_type": "markdown",
      "metadata": {},
      "source": [
        "### Exemplos reais usando pandas (df)"
      ]
    },
    {
      "cell_type": "code",
      "execution_count": 254,
      "metadata": {},
      "outputs": [
        {
          "data": {
            "text/html": [
              "<div>\n",
              "<style scoped>\n",
              "    .dataframe tbody tr th:only-of-type {\n",
              "        vertical-align: middle;\n",
              "    }\n",
              "\n",
              "    .dataframe tbody tr th {\n",
              "        vertical-align: top;\n",
              "    }\n",
              "\n",
              "    .dataframe thead th {\n",
              "        text-align: right;\n",
              "    }\n",
              "</style>\n",
              "<table border=\"1\" class=\"dataframe\">\n",
              "  <thead>\n",
              "    <tr style=\"text-align: right;\">\n",
              "      <th></th>\n",
              "      <th>dia</th>\n",
              "      <th>alugueis</th>\n",
              "      <th>chuva</th>\n",
              "    </tr>\n",
              "  </thead>\n",
              "  <tbody>\n",
              "    <tr>\n",
              "      <th>0</th>\n",
              "      <td>Seg</td>\n",
              "      <td>32</td>\n",
              "      <td>True</td>\n",
              "    </tr>\n",
              "    <tr>\n",
              "      <th>1</th>\n",
              "      <td>Ter</td>\n",
              "      <td>41</td>\n",
              "      <td>False</td>\n",
              "    </tr>\n",
              "    <tr>\n",
              "      <th>2</th>\n",
              "      <td>Qua</td>\n",
              "      <td>35</td>\n",
              "      <td>True</td>\n",
              "    </tr>\n",
              "    <tr>\n",
              "      <th>3</th>\n",
              "      <td>Qui</td>\n",
              "      <td>39</td>\n",
              "      <td>False</td>\n",
              "    </tr>\n",
              "    <tr>\n",
              "      <th>4</th>\n",
              "      <td>Sex</td>\n",
              "      <td>60</td>\n",
              "      <td>False</td>\n",
              "    </tr>\n",
              "    <tr>\n",
              "      <th>5</th>\n",
              "      <td>Sab</td>\n",
              "      <td>150</td>\n",
              "      <td>False</td>\n",
              "    </tr>\n",
              "    <tr>\n",
              "      <th>6</th>\n",
              "      <td>Dom</td>\n",
              "      <td>140</td>\n",
              "      <td>True</td>\n",
              "    </tr>\n",
              "  </tbody>\n",
              "</table>\n",
              "</div>"
            ],
            "text/plain": [
              "   dia  alugueis  chuva\n",
              "0  Seg        32   True\n",
              "1  Ter        41  False\n",
              "2  Qua        35   True\n",
              "3  Qui        39  False\n",
              "4  Sex        60  False\n",
              "5  Sab       150  False\n",
              "6  Dom       140   True"
            ]
          },
          "execution_count": 254,
          "metadata": {},
          "output_type": "execute_result"
        }
      ],
      "source": [
        "dados_bike = {\n",
        "'dia': ['Seg', 'Ter', 'Qua', 'Qui', 'Sex', 'Sab', 'Dom'],\n",
        "'alugueis': [32, 41, 35, 39, 60, 150, 140],\n",
        "'chuva': [True, False, True, False, False, False, True]\n",
        "}\n",
        "df_bike = pd.DataFrame(dados_bike)\n",
        "\n",
        "df_bike"
      ]
    },
    {
      "cell_type": "code",
      "execution_count": 255,
      "metadata": {},
      "outputs": [
        {
          "data": {
            "text/html": [
              "<div>\n",
              "<style scoped>\n",
              "    .dataframe tbody tr th:only-of-type {\n",
              "        vertical-align: middle;\n",
              "    }\n",
              "\n",
              "    .dataframe tbody tr th {\n",
              "        vertical-align: top;\n",
              "    }\n",
              "\n",
              "    .dataframe thead th {\n",
              "        text-align: right;\n",
              "    }\n",
              "</style>\n",
              "<table border=\"1\" class=\"dataframe\">\n",
              "  <thead>\n",
              "    <tr style=\"text-align: right;\">\n",
              "      <th></th>\n",
              "      <th>dia</th>\n",
              "      <th>alugueis</th>\n",
              "      <th>chuva</th>\n",
              "    </tr>\n",
              "  </thead>\n",
              "  <tbody>\n",
              "    <tr>\n",
              "      <th>4</th>\n",
              "      <td>Sex</td>\n",
              "      <td>60</td>\n",
              "      <td>False</td>\n",
              "    </tr>\n",
              "    <tr>\n",
              "      <th>5</th>\n",
              "      <td>Sab</td>\n",
              "      <td>150</td>\n",
              "      <td>False</td>\n",
              "    </tr>\n",
              "    <tr>\n",
              "      <th>6</th>\n",
              "      <td>Dom</td>\n",
              "      <td>140</td>\n",
              "      <td>True</td>\n",
              "    </tr>\n",
              "  </tbody>\n",
              "</table>\n",
              "</div>"
            ],
            "text/plain": [
              "   dia  alugueis  chuva\n",
              "4  Sex        60  False\n",
              "5  Sab       150  False\n",
              "6  Dom       140   True"
            ]
          },
          "execution_count": 255,
          "metadata": {},
          "output_type": "execute_result"
        }
      ],
      "source": [
        "# Dias em que o aluguel foi maior que 50\n",
        "filtro = (df_bike['alugueis'] > 50) \n",
        "df_bike[filtro]"
      ]
    },
    {
      "cell_type": "code",
      "execution_count": 256,
      "metadata": {},
      "outputs": [
        {
          "name": "stdout",
          "output_type": "stream",
          "text": [
            "Dias sem chuva: 290 alugueis\n",
            "Dias com chuva: 207 alugueis\n"
          ]
        }
      ],
      "source": [
        "# Total de alugueis nos dias sem chuva\n",
        "dias_sem_chuva = (df_bike['chuva'] == False)\n",
        "print(f\"Dias sem chuva: {df_bike[dias_sem_chuva]['alugueis'].sum()} alugueis\")\n",
        "print(f\"Dias com chuva: {df_bike[~dias_sem_chuva]['alugueis'].sum()} alugueis\")\n"
      ]
    },
    {
      "cell_type": "code",
      "execution_count": 257,
      "metadata": {},
      "outputs": [
        {
          "name": "stdout",
          "output_type": "stream",
          "text": [
            "Media com chuvas: 69.0\n",
            "Media sem chuvas: 72.5\n"
          ]
        }
      ],
      "source": [
        "# Média de alugueis nos dias chuvosos e sem chuva\n",
        "print(f\"Media com chuvas: {df_bike[~dias_sem_chuva]['alugueis'].mean()}\")\n",
        "print(f\"Media sem chuvas: {df_bike[dias_sem_chuva]['alugueis'].mean()}\")"
      ]
    },
    {
      "cell_type": "code",
      "execution_count": 258,
      "metadata": {},
      "outputs": [],
      "source": [
        "def verificar_movimento(alguel):\n",
        "    if alguel >= 50:\n",
        "        return 'Movimentado'\n",
        "    else:\n",
        "        return 'Calmo'"
      ]
    },
    {
      "cell_type": "code",
      "execution_count": 259,
      "metadata": {},
      "outputs": [
        {
          "data": {
            "text/html": [
              "<div>\n",
              "<style scoped>\n",
              "    .dataframe tbody tr th:only-of-type {\n",
              "        vertical-align: middle;\n",
              "    }\n",
              "\n",
              "    .dataframe tbody tr th {\n",
              "        vertical-align: top;\n",
              "    }\n",
              "\n",
              "    .dataframe thead th {\n",
              "        text-align: right;\n",
              "    }\n",
              "</style>\n",
              "<table border=\"1\" class=\"dataframe\">\n",
              "  <thead>\n",
              "    <tr style=\"text-align: right;\">\n",
              "      <th></th>\n",
              "      <th>dia</th>\n",
              "      <th>alugueis</th>\n",
              "      <th>chuva</th>\n",
              "      <th>movimento</th>\n",
              "    </tr>\n",
              "  </thead>\n",
              "  <tbody>\n",
              "    <tr>\n",
              "      <th>0</th>\n",
              "      <td>Seg</td>\n",
              "      <td>32</td>\n",
              "      <td>True</td>\n",
              "      <td>Calmo</td>\n",
              "    </tr>\n",
              "    <tr>\n",
              "      <th>1</th>\n",
              "      <td>Ter</td>\n",
              "      <td>41</td>\n",
              "      <td>False</td>\n",
              "      <td>Calmo</td>\n",
              "    </tr>\n",
              "    <tr>\n",
              "      <th>2</th>\n",
              "      <td>Qua</td>\n",
              "      <td>35</td>\n",
              "      <td>True</td>\n",
              "      <td>Calmo</td>\n",
              "    </tr>\n",
              "    <tr>\n",
              "      <th>3</th>\n",
              "      <td>Qui</td>\n",
              "      <td>39</td>\n",
              "      <td>False</td>\n",
              "      <td>Calmo</td>\n",
              "    </tr>\n",
              "    <tr>\n",
              "      <th>4</th>\n",
              "      <td>Sex</td>\n",
              "      <td>60</td>\n",
              "      <td>False</td>\n",
              "      <td>Movimentado</td>\n",
              "    </tr>\n",
              "    <tr>\n",
              "      <th>5</th>\n",
              "      <td>Sab</td>\n",
              "      <td>150</td>\n",
              "      <td>False</td>\n",
              "      <td>Movimentado</td>\n",
              "    </tr>\n",
              "    <tr>\n",
              "      <th>6</th>\n",
              "      <td>Dom</td>\n",
              "      <td>140</td>\n",
              "      <td>True</td>\n",
              "      <td>Movimentado</td>\n",
              "    </tr>\n",
              "  </tbody>\n",
              "</table>\n",
              "</div>"
            ],
            "text/plain": [
              "   dia  alugueis  chuva    movimento\n",
              "0  Seg        32   True        Calmo\n",
              "1  Ter        41  False        Calmo\n",
              "2  Qua        35   True        Calmo\n",
              "3  Qui        39  False        Calmo\n",
              "4  Sex        60  False  Movimentado\n",
              "5  Sab       150  False  Movimentado\n",
              "6  Dom       140   True  Movimentado"
            ]
          },
          "execution_count": 259,
          "metadata": {},
          "output_type": "execute_result"
        }
      ],
      "source": [
        "#df['valor_total'] = df['preco'] * df['estoque']\n",
        "df_bike['movimento'] = df_bike['alugueis'].apply(verificar_movimento)\n",
        "df_bike"
      ]
    },
    {
      "cell_type": "markdown",
      "metadata": {},
      "source": [
        "---"
      ]
    },
    {
      "cell_type": "markdown",
      "metadata": {},
      "source": [
        "### Carregando dados usando fontes externas"
      ]
    },
    {
      "cell_type": "code",
      "execution_count": 260,
      "metadata": {},
      "outputs": [
        {
          "data": {
            "text/html": [
              "<div>\n",
              "<style scoped>\n",
              "    .dataframe tbody tr th:only-of-type {\n",
              "        vertical-align: middle;\n",
              "    }\n",
              "\n",
              "    .dataframe tbody tr th {\n",
              "        vertical-align: top;\n",
              "    }\n",
              "\n",
              "    .dataframe thead th {\n",
              "        text-align: right;\n",
              "    }\n",
              "</style>\n",
              "<table border=\"1\" class=\"dataframe\">\n",
              "  <thead>\n",
              "    <tr style=\"text-align: right;\">\n",
              "      <th></th>\n",
              "      <th>Dia Semana</th>\n",
              "      <th>Data</th>\n",
              "      <th>Antes Comer / Depois Comer</th>\n",
              "      <th>Resultado</th>\n",
              "      <th>Dose Insulina</th>\n",
              "      <th>kcal</th>\n",
              "      <th>carb</th>\n",
              "      <th>noite de sono</th>\n",
              "      <th>padel</th>\n",
              "      <th>musculacao R</th>\n",
              "      <th>musculacao H</th>\n",
              "      <th>pilates</th>\n",
              "      <th>corrida</th>\n",
              "      <th>caminhada</th>\n",
              "      <th>tenis</th>\n",
              "      <th>sauna</th>\n",
              "      <th>bike</th>\n",
              "      <th>natacao</th>\n",
              "      <th>eliptico</th>\n",
              "      <th>volei de areia</th>\n",
              "    </tr>\n",
              "  </thead>\n",
              "  <tbody>\n",
              "    <tr>\n",
              "      <th>0</th>\n",
              "      <td>NaN</td>\n",
              "      <td>NaN</td>\n",
              "      <td>NaN</td>\n",
              "      <td>NaN</td>\n",
              "      <td>NaN</td>\n",
              "      <td>NaN</td>\n",
              "      <td>NaN</td>\n",
              "      <td>1-May</td>\n",
              "      <td>NaN</td>\n",
              "      <td>NaN</td>\n",
              "      <td>NaN</td>\n",
              "      <td>NaN</td>\n",
              "      <td>NaN</td>\n",
              "      <td>NaN</td>\n",
              "      <td>NaN</td>\n",
              "      <td>NaN</td>\n",
              "      <td>NaN</td>\n",
              "      <td>NaN</td>\n",
              "      <td>NaN</td>\n",
              "      <td>NaN</td>\n",
              "    </tr>\n",
              "    <tr>\n",
              "      <th>1</th>\n",
              "      <td>Sexta</td>\n",
              "      <td>2012.0</td>\n",
              "      <td>ac</td>\n",
              "      <td>96.0</td>\n",
              "      <td>6.0</td>\n",
              "      <td>2714.0</td>\n",
              "      <td>309.0</td>\n",
              "      <td>4</td>\n",
              "      <td>0.0</td>\n",
              "      <td>60.0</td>\n",
              "      <td>0.0</td>\n",
              "      <td>0.0</td>\n",
              "      <td>10.0</td>\n",
              "      <td>0.0</td>\n",
              "      <td>0.0</td>\n",
              "      <td>0.0</td>\n",
              "      <td>0.0</td>\n",
              "      <td>0.0</td>\n",
              "      <td>0.0</td>\n",
              "      <td>0.0</td>\n",
              "    </tr>\n",
              "    <tr>\n",
              "      <th>2</th>\n",
              "      <td>Sábado</td>\n",
              "      <td>2012.0</td>\n",
              "      <td>ac</td>\n",
              "      <td>90.0</td>\n",
              "      <td>6.0</td>\n",
              "      <td>2665.0</td>\n",
              "      <td>334.0</td>\n",
              "      <td>4</td>\n",
              "      <td>90.0</td>\n",
              "      <td>0.0</td>\n",
              "      <td>0.0</td>\n",
              "      <td>0.0</td>\n",
              "      <td>0.0</td>\n",
              "      <td>0.0</td>\n",
              "      <td>0.0</td>\n",
              "      <td>0.0</td>\n",
              "      <td>0.0</td>\n",
              "      <td>0.0</td>\n",
              "      <td>0.0</td>\n",
              "      <td>0.0</td>\n",
              "    </tr>\n",
              "    <tr>\n",
              "      <th>3</th>\n",
              "      <td>Domingo</td>\n",
              "      <td>2012.0</td>\n",
              "      <td>ac</td>\n",
              "      <td>105.0</td>\n",
              "      <td>6.0</td>\n",
              "      <td>2008.0</td>\n",
              "      <td>262.0</td>\n",
              "      <td>5</td>\n",
              "      <td>0.0</td>\n",
              "      <td>0.0</td>\n",
              "      <td>0.0</td>\n",
              "      <td>0.0</td>\n",
              "      <td>0.0</td>\n",
              "      <td>0.0</td>\n",
              "      <td>0.0</td>\n",
              "      <td>0.0</td>\n",
              "      <td>0.0</td>\n",
              "      <td>0.0</td>\n",
              "      <td>0.0</td>\n",
              "      <td>0.0</td>\n",
              "    </tr>\n",
              "    <tr>\n",
              "      <th>4</th>\n",
              "      <td>Segunda</td>\n",
              "      <td>2012.0</td>\n",
              "      <td>ac</td>\n",
              "      <td>86.0</td>\n",
              "      <td>6.0</td>\n",
              "      <td>2117.0</td>\n",
              "      <td>291.0</td>\n",
              "      <td>5</td>\n",
              "      <td>90.0</td>\n",
              "      <td>0.0</td>\n",
              "      <td>0.0</td>\n",
              "      <td>0.0</td>\n",
              "      <td>0.0</td>\n",
              "      <td>0.0</td>\n",
              "      <td>0.0</td>\n",
              "      <td>0.0</td>\n",
              "      <td>0.0</td>\n",
              "      <td>0.0</td>\n",
              "      <td>0.0</td>\n",
              "      <td>0.0</td>\n",
              "    </tr>\n",
              "    <tr>\n",
              "      <th>...</th>\n",
              "      <td>...</td>\n",
              "      <td>...</td>\n",
              "      <td>...</td>\n",
              "      <td>...</td>\n",
              "      <td>...</td>\n",
              "      <td>...</td>\n",
              "      <td>...</td>\n",
              "      <td>...</td>\n",
              "      <td>...</td>\n",
              "      <td>...</td>\n",
              "      <td>...</td>\n",
              "      <td>...</td>\n",
              "      <td>...</td>\n",
              "      <td>...</td>\n",
              "      <td>...</td>\n",
              "      <td>...</td>\n",
              "      <td>...</td>\n",
              "      <td>...</td>\n",
              "      <td>...</td>\n",
              "      <td>...</td>\n",
              "    </tr>\n",
              "    <tr>\n",
              "      <th>720</th>\n",
              "      <td>Segunda</td>\n",
              "      <td>2014.0</td>\n",
              "      <td>ac</td>\n",
              "      <td>98.0</td>\n",
              "      <td>12.0</td>\n",
              "      <td>2626.0</td>\n",
              "      <td>157.0</td>\n",
              "      <td>5</td>\n",
              "      <td>0.0</td>\n",
              "      <td>0.0</td>\n",
              "      <td>0.0</td>\n",
              "      <td>0.0</td>\n",
              "      <td>0.0</td>\n",
              "      <td>0.0</td>\n",
              "      <td>0.0</td>\n",
              "      <td>0.0</td>\n",
              "      <td>0.0</td>\n",
              "      <td>0.0</td>\n",
              "      <td>0.0</td>\n",
              "      <td>0.0</td>\n",
              "    </tr>\n",
              "    <tr>\n",
              "      <th>721</th>\n",
              "      <td>Terça</td>\n",
              "      <td>2014.0</td>\n",
              "      <td>ac</td>\n",
              "      <td>92.0</td>\n",
              "      <td>12.0</td>\n",
              "      <td>2296.0</td>\n",
              "      <td>276.0</td>\n",
              "      <td>5</td>\n",
              "      <td>0.0</td>\n",
              "      <td>0.0</td>\n",
              "      <td>0.0</td>\n",
              "      <td>0.0</td>\n",
              "      <td>0.0</td>\n",
              "      <td>0.0</td>\n",
              "      <td>0.0</td>\n",
              "      <td>0.0</td>\n",
              "      <td>0.0</td>\n",
              "      <td>0.0</td>\n",
              "      <td>0.0</td>\n",
              "      <td>0.0</td>\n",
              "    </tr>\n",
              "    <tr>\n",
              "      <th>722</th>\n",
              "      <td>Quarta</td>\n",
              "      <td>2014.0</td>\n",
              "      <td>ac</td>\n",
              "      <td>91.0</td>\n",
              "      <td>12.0</td>\n",
              "      <td>2453.0</td>\n",
              "      <td>177.0</td>\n",
              "      <td>3</td>\n",
              "      <td>0.0</td>\n",
              "      <td>0.0</td>\n",
              "      <td>0.0</td>\n",
              "      <td>0.0</td>\n",
              "      <td>0.0</td>\n",
              "      <td>0.0</td>\n",
              "      <td>0.0</td>\n",
              "      <td>0.0</td>\n",
              "      <td>0.0</td>\n",
              "      <td>0.0</td>\n",
              "      <td>0.0</td>\n",
              "      <td>0.0</td>\n",
              "    </tr>\n",
              "    <tr>\n",
              "      <th>723</th>\n",
              "      <td>Quinta</td>\n",
              "      <td>2014.0</td>\n",
              "      <td>ac</td>\n",
              "      <td>99.0</td>\n",
              "      <td>12.0</td>\n",
              "      <td>2565.0</td>\n",
              "      <td>246.0</td>\n",
              "      <td>4</td>\n",
              "      <td>0.0</td>\n",
              "      <td>0.0</td>\n",
              "      <td>50.0</td>\n",
              "      <td>0.0</td>\n",
              "      <td>0.0</td>\n",
              "      <td>0.0</td>\n",
              "      <td>0.0</td>\n",
              "      <td>0.0</td>\n",
              "      <td>10.0</td>\n",
              "      <td>0.0</td>\n",
              "      <td>0.0</td>\n",
              "      <td>0.0</td>\n",
              "    </tr>\n",
              "    <tr>\n",
              "      <th>724</th>\n",
              "      <td>Sexta</td>\n",
              "      <td>2014.0</td>\n",
              "      <td>ac</td>\n",
              "      <td>93.0</td>\n",
              "      <td>12.0</td>\n",
              "      <td>NaN</td>\n",
              "      <td>NaN</td>\n",
              "      <td>5</td>\n",
              "      <td>0.0</td>\n",
              "      <td>0.0</td>\n",
              "      <td>50.0</td>\n",
              "      <td>0.0</td>\n",
              "      <td>0.0</td>\n",
              "      <td>20.0</td>\n",
              "      <td>0.0</td>\n",
              "      <td>0.0</td>\n",
              "      <td>0.0</td>\n",
              "      <td>0.0</td>\n",
              "      <td>0.0</td>\n",
              "      <td>0.0</td>\n",
              "    </tr>\n",
              "  </tbody>\n",
              "</table>\n",
              "<p>725 rows × 20 columns</p>\n",
              "</div>"
            ],
            "text/plain": [
              "    Dia Semana    Data Antes Comer / Depois Comer   Resultado  Dose Insulina  \\\n",
              "0          NaN     NaN                         NaN        NaN            NaN   \n",
              "1        Sexta  2012.0                          ac       96.0            6.0   \n",
              "2       Sábado  2012.0                          ac       90.0            6.0   \n",
              "3      Domingo  2012.0                          ac      105.0            6.0   \n",
              "4      Segunda  2012.0                          ac       86.0            6.0   \n",
              "..         ...     ...                         ...        ...            ...   \n",
              "720    Segunda  2014.0                          ac       98.0           12.0   \n",
              "721      Terça  2014.0                          ac       92.0           12.0   \n",
              "722     Quarta  2014.0                          ac       91.0           12.0   \n",
              "723     Quinta  2014.0                          ac       99.0           12.0   \n",
              "724      Sexta  2014.0                          ac       93.0           12.0   \n",
              "\n",
              "       kcal   carb noite de sono  padel  musculacao R  musculacao H  pilates  \\\n",
              "0       NaN    NaN         1-May    NaN           NaN           NaN      NaN   \n",
              "1    2714.0  309.0             4    0.0          60.0           0.0      0.0   \n",
              "2    2665.0  334.0             4   90.0           0.0           0.0      0.0   \n",
              "3    2008.0  262.0             5    0.0           0.0           0.0      0.0   \n",
              "4    2117.0  291.0             5   90.0           0.0           0.0      0.0   \n",
              "..      ...    ...           ...    ...           ...           ...      ...   \n",
              "720  2626.0  157.0             5    0.0           0.0           0.0      0.0   \n",
              "721  2296.0  276.0             5    0.0           0.0           0.0      0.0   \n",
              "722  2453.0  177.0             3    0.0           0.0           0.0      0.0   \n",
              "723  2565.0  246.0             4    0.0           0.0          50.0      0.0   \n",
              "724     NaN    NaN             5    0.0           0.0          50.0      0.0   \n",
              "\n",
              "     corrida  caminhada  tenis  sauna  bike  natacao  eliptico  volei de areia  \n",
              "0        NaN        NaN    NaN    NaN   NaN      NaN       NaN             NaN  \n",
              "1       10.0        0.0    0.0    0.0   0.0      0.0       0.0             0.0  \n",
              "2        0.0        0.0    0.0    0.0   0.0      0.0       0.0             0.0  \n",
              "3        0.0        0.0    0.0    0.0   0.0      0.0       0.0             0.0  \n",
              "4        0.0        0.0    0.0    0.0   0.0      0.0       0.0             0.0  \n",
              "..       ...        ...    ...    ...   ...      ...       ...             ...  \n",
              "720      0.0        0.0    0.0    0.0   0.0      0.0       0.0             0.0  \n",
              "721      0.0        0.0    0.0    0.0   0.0      0.0       0.0             0.0  \n",
              "722      0.0        0.0    0.0    0.0   0.0      0.0       0.0             0.0  \n",
              "723      0.0        0.0    0.0    0.0  10.0      0.0       0.0             0.0  \n",
              "724      0.0       20.0    0.0    0.0   0.0      0.0       0.0             0.0  \n",
              "\n",
              "[725 rows x 20 columns]"
            ]
          },
          "execution_count": 260,
          "metadata": {},
          "output_type": "execute_result"
        }
      ],
      "source": [
        "df_glicose = pd.read_csv('https://raw.githubusercontent.com/RobertsonWeb/materiais-numpy-pandas/refs/heads/main/datasets/glicose_data_suja.csv', sep=',')\n",
        "df_glicose"
      ]
    },
    {
      "cell_type": "code",
      "execution_count": null,
      "metadata": {},
      "outputs": [],
      "source": []
    }
  ],
  "metadata": {
    "colab": {
      "authorship_tag": "ABX9TyNUlhI8s9NpNLf9BUaaE2G7",
      "include_colab_link": true,
      "provenance": []
    },
    "kernelspec": {
      "display_name": "Python 3",
      "name": "python3"
    },
    "language_info": {
      "codemirror_mode": {
        "name": "ipython",
        "version": 3
      },
      "file_extension": ".py",
      "mimetype": "text/x-python",
      "name": "python",
      "nbconvert_exporter": "python",
      "pygments_lexer": "ipython3",
      "version": "3.13.1"
    }
  },
  "nbformat": 4,
  "nbformat_minor": 0
}
