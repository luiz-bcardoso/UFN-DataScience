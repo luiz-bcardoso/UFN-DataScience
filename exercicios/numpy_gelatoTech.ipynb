{
 "cells": [
  {
   "cell_type": "markdown",
   "metadata": {},
   "source": [
    "### Exercício: Análise de Vendas de Sorvetes nas Férias de Verão.\n",
    "\n",
    "Você é um analista de dados contratado por uma franquia de sorveterias chamada\n",
    "GelatoTech. Durante as férias de verão, eles monitoraram as vendas de sorvetes em 4 lojas\n",
    "diferentes, ao longo de 7 dias consecutivos (de segunda a domingo).\n",
    "\n",
    "---\n",
    "\n",
    "Sua missão é analisar os dados de vendas e extrair insights importantes para a diretoria da\n",
    "empresa."
   ]
  },
  {
   "cell_type": "code",
   "execution_count": 3,
   "metadata": {},
   "outputs": [],
   "source": [
    "import numpy as np"
   ]
  },
  {
   "cell_type": "code",
   "execution_count": 4,
   "metadata": {},
   "outputs": [],
   "source": [
    "# Vendas em R$ mil (linhas: lojas | colunas: dias da semana)\n",
    "vendas_sorvete = np.array([\n",
    "[12, 15, 14, 10, 20, 35, 30], # Loja 1\n",
    "[10, 11, 12, 9, 18, 32, 28], # Loja 2\n",
    "[ 9, 8, 11, 10, 19, 30, 25], # Loja 3\n",
    "[13, 14, 13, 11, 21, 36, 31] # Loja 4\n",
    "])\n",
    "\n",
    "dias = ['Seg', 'Ter', 'Qua', 'Qui', 'Sex', 'Sab', 'Dom']\n",
    "lojas = ['Loja 1', 'Loja 2', 'Loja 3', 'Loja 4']"
   ]
  },
  {
   "cell_type": "markdown",
   "metadata": {},
   "source": [
    "1. Qual loja vendeu mais no total da semana?"
   ]
  },
  {
   "cell_type": "code",
   "execution_count": 34,
   "metadata": {},
   "outputs": [
    {
     "name": "stdout",
     "output_type": "stream",
     "text": [
      "[136 120 112 139]\n",
      "139\n"
     ]
    }
   ],
   "source": [
    "venda_total_semana = []\n",
    "\n",
    "venda_total_semana = np.sum(vendas_sorvete, axis=1)\n",
    "print(venda_total_semana)\n",
    "print(np.max(venda_total_semana))"
   ]
  },
  {
   "cell_type": "markdown",
   "metadata": {},
   "source": [
    "2. Qual foi o dia de maior faturamento geral?"
   ]
  },
  {
   "cell_type": "code",
   "execution_count": 45,
   "metadata": {},
   "outputs": [
    {
     "name": "stdout",
     "output_type": "stream",
     "text": [
      "5\n"
     ]
    }
   ],
   "source": [
    "indice_dia_maior_faturamento = np.argmax(np.sum(vendas_sorvete, axis=0))\n",
    "print(indice_dia_maior_faturamento)"
   ]
  },
  {
   "cell_type": "markdown",
   "metadata": {},
   "source": [
    "3. Qual foi a média de vendas por loja ao longo da semana?"
   ]
  },
  {
   "cell_type": "code",
   "execution_count": 44,
   "metadata": {},
   "outputs": [
    {
     "name": "stdout",
     "output_type": "stream",
     "text": [
      "[11.   12.   12.5  10.   19.5  33.25 28.5 ]\n"
     ]
    }
   ],
   "source": [
    "media_vendas_semana = np.mean(vendas_sorvete, axis=0)\n",
    "print(np.round(media_vendas_semana, 2))"
   ]
  },
  {
   "cell_type": "markdown",
   "metadata": {},
   "source": [
    "4. Qual loja teve a menor mediana de vendas diárias?"
   ]
  },
  {
   "cell_type": "code",
   "execution_count": 49,
   "metadata": {},
   "outputs": [
    {
     "name": "stdout",
     "output_type": "stream",
     "text": [
      "[11.  12.5 12.5 10.  19.5 33.5 29. ]\n"
     ]
    }
   ],
   "source": [
    "mediana_vendas_diaria = np.median(vendas_sorvete, axis=0)\n",
    "print(np.round(mediana_vendas_diaria, 2))"
   ]
  },
  {
   "cell_type": "markdown",
   "metadata": {},
   "source": [
    "5. Quantos dias a Loja 1 vendeu mais do que R$ 25 mil?"
   ]
  },
  {
   "cell_type": "code",
   "execution_count": 63,
   "metadata": {},
   "outputs": [
    {
     "name": "stdout",
     "output_type": "stream",
     "text": [
      "2\n"
     ]
    }
   ],
   "source": [
    "dias_loja_vendeu_mais_25 = np.count_nonzero(vendas_sorvete[0] > 25) #cursed af 💀\n",
    "print(dias_loja_vendeu_mais_25)"
   ]
  },
  {
   "cell_type": "markdown",
   "metadata": {},
   "source": [
    "6. Crie uma nova matriz com as vendas acrescidas de 10% (simulando um reajuste\n",
    "nos preços dos sorvetes)"
   ]
  },
  {
   "cell_type": "code",
   "execution_count": 66,
   "metadata": {},
   "outputs": [
    {
     "name": "stdout",
     "output_type": "stream",
     "text": [
      "[[13.2 16.5 15.4 11.  22.  38.5 33. ]\n",
      " [11.  12.1 13.2  9.9 19.8 35.2 30.8]\n",
      " [ 9.9  8.8 12.1 11.  20.9 33.  27.5]\n",
      " [14.3 15.4 14.3 12.1 23.1 39.6 34.1]]\n"
     ]
    }
   ],
   "source": [
    "vendas_sorvete_110 = vendas_sorvete *1.10\n",
    "print(vendas_sorvete_110)"
   ]
  },
  {
   "cell_type": "markdown",
   "metadata": {},
   "source": [
    "**DESAFIO:** A empresa quer premiar a loja que mais cresceu nas vendas do final de semana (Sábado e Domingo).\n",
    "\n",
    "Calcule o total do fim de semana para cada loja e indique a campeã."
   ]
  },
  {
   "cell_type": "code",
   "execution_count": 73,
   "metadata": {},
   "outputs": [
    {
     "name": "stdout",
     "output_type": "stream",
     "text": [
      "[[12 15 14 10 20 35 30]\n",
      " [10 11 12  9 18 32 28]\n",
      " [ 9  8 11 10 19 30 25]\n",
      " [13 14 13 11 21 36 31]]\n",
      "[133 114]\n"
     ]
    }
   ],
   "source": [
    "print(vendas_sorvete)\n",
    "vendas_sabado_domingo = np.sum(vendas_sorvete[:,5:7], axis=0)\n",
    "print(vendas_sabado_domingo)"
   ]
  }
 ],
 "metadata": {
  "kernelspec": {
   "display_name": "venv",
   "language": "python",
   "name": "python3"
  },
  "language_info": {
   "codemirror_mode": {
    "name": "ipython",
    "version": 3
   },
   "file_extension": ".py",
   "mimetype": "text/x-python",
   "name": "python",
   "nbconvert_exporter": "python",
   "pygments_lexer": "ipython3",
   "version": "3.13.1"
  }
 },
 "nbformat": 4,
 "nbformat_minor": 2
}
